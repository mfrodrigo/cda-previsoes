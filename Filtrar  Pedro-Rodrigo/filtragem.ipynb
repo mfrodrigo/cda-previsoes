{
 "cells": [
  {
   "cell_type": "code",
   "execution_count": 203,
   "metadata": {},
   "outputs": [],
   "source": [
    "## importa bibliotecas"
   ]
  },
  {
   "cell_type": "code",
   "execution_count": 204,
   "metadata": {},
   "outputs": [],
   "source": [
    "import csv\n"
   ]
  },
  {
   "cell_type": "code",
   "execution_count": 205,
   "metadata": {},
   "outputs": [],
   "source": [
    "def tratamento(string):\n",
    "    pass"
   ]
  },
  {
   "cell_type": "code",
   "execution_count": 206,
   "metadata": {},
   "outputs": [],
   "source": [
    "def filtrar_csv(string, filename):\n",
    "\n",
    "    linhas = []\n",
    "\n",
    "    with open((filename), 'r', encoding='utf-8') as tweetfile:\n",
    "        reader = csv.reader(tweetfile)\n",
    "        for linha in reader:\n",
    "            linhas.append(linha)\n",
    "\n",
    "\n",
    "    with open('filtrado_' + (string) + '.csv', 'w', encoding='utf-8' fieldnames=['user', 'text', 'created_at']) as file:\n",
    "        writer = csv.writer(file)\n",
    "        for linha in linhas:\n",
    "            for atributo in linha:\n",
    "                if (string) in atributo.lower():\n",
    "                    writer.writerow(linha)\n"
   ]
  },
  {
   "cell_type": "code",
   "execution_count": 207,
   "metadata": {
    "tags": []
   },
   "outputs": [],
   "source": [
    "filtrar_csv('asdfba', '1k_user_text_date.csv')\n"
   ]
  },
  {
   "cell_type": "code",
   "execution_count": null,
   "metadata": {},
   "outputs": [],
   "source": []
  }
 ],
 "metadata": {
  "language_info": {
   "codemirror_mode": {
    "name": "ipython",
    "version": 3
   },
   "file_extension": ".py",
   "mimetype": "text/x-python",
   "name": "python",
   "nbconvert_exporter": "python",
   "pygments_lexer": "ipython3",
   "version": "3.7.6-final"
  },
  "orig_nbformat": 2,
  "kernelspec": {
   "name": "python3",
   "display_name": "Python 3"
  }
 },
 "nbformat": 4,
 "nbformat_minor": 2
}